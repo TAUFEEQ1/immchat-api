{
 "cells": [
  {
   "cell_type": "code",
   "execution_count": 3,
   "metadata": {},
   "outputs": [
    {
     "name": "stdout",
     "output_type": "stream",
     "text": [
      "~/.deeppavlov/downloads/squad/\n"
     ]
    }
   ],
   "source": [
    "from deeppavlov import train_model\n",
    "from deeppavlov.core.commands.utils import parse_config\n",
    "\n",
    "model_config = parse_config('squad_bert')\n",
    "\n",
    "#  dataset that the model was trained on\n",
    "print(model_config['dataset_reader']['data_path'])"
   ]
  },
  {
   "cell_type": "code",
   "execution_count": 7,
   "metadata": {},
   "outputs": [],
   "source": [
    "model_config[\"dataset_reader\"][\"data_path\"] = \"./faq.json\""
   ]
  },
  {
   "cell_type": "code",
   "execution_count": 8,
   "metadata": {},
   "outputs": [
    {
     "name": "stderr",
     "output_type": "stream",
     "text": [
      "2023-04-09 01:23:35.668 INFO in 'deeppavlov.core.data.utils'['utils'] at line 95: Downloading from http://files.deeppavlov.ai/datasets/squad-v1.1.tar.gz to faq.json\\squad-v1.1.tar.gz\n",
      "100%|██████████| 9.04M/9.04M [00:03<00:00, 2.40MB/s]\n",
      "2023-04-09 01:23:41.801 INFO in 'deeppavlov.core.data.utils'['utils'] at line 276: Extracting faq.json\\squad-v1.1.tar.gz archive into faq.json\n",
      "2023-04-09 01:23:44.414 WARNING in 'deeppavlov.core.trainers.fit_trainer'['fit_trainer'] at line 66: TorchTrainer got additional init parameters ['pytest_max_batches', 'pytest_batch_size'] that will be ignored:\n"
     ]
    },
    {
     "ename": "ModuleNotFoundError",
     "evalue": "No module named 'torch'",
     "output_type": "error",
     "traceback": [
      "\u001b[1;31m---------------------------------------------------------------------------\u001b[0m",
      "\u001b[1;31mModuleNotFoundError\u001b[0m                       Traceback (most recent call last)",
      "Cell \u001b[1;32mIn[8], line 1\u001b[0m\n\u001b[1;32m----> 1\u001b[0m train_model(model_config,download\u001b[39m=\u001b[39;49m\u001b[39mFalse\u001b[39;49;00m)\n",
      "File \u001b[1;32mc:\\Users\\Taufeeq\\projects\\im-scrapper\\.venv\\lib\\site-packages\\deeppavlov\\__init__.py:31\u001b[0m, in \u001b[0;36mtrain_model\u001b[1;34m(config, install, download, recursive)\u001b[0m\n\u001b[0;32m     29\u001b[0m \u001b[39mdef\u001b[39;00m \u001b[39mtrain_model\u001b[39m(config: [\u001b[39mstr\u001b[39m, Path, \u001b[39mdict\u001b[39m], install: \u001b[39mbool\u001b[39m \u001b[39m=\u001b[39m \u001b[39mFalse\u001b[39;00m,\n\u001b[0;32m     30\u001b[0m                 download: \u001b[39mbool\u001b[39m \u001b[39m=\u001b[39m \u001b[39mFalse\u001b[39;00m, recursive: \u001b[39mbool\u001b[39m \u001b[39m=\u001b[39m \u001b[39mFalse\u001b[39;00m) \u001b[39m-\u001b[39m\u001b[39m>\u001b[39m Chainer:\n\u001b[1;32m---> 31\u001b[0m     train_evaluate_model_from_config(config, install\u001b[39m=\u001b[39;49minstall, download\u001b[39m=\u001b[39;49mdownload, recursive\u001b[39m=\u001b[39;49mrecursive)\n\u001b[0;32m     32\u001b[0m     \u001b[39mreturn\u001b[39;00m build_model(config, load_trained\u001b[39m=\u001b[39m\u001b[39mTrue\u001b[39;00m)\n",
      "File \u001b[1;32mc:\\Users\\Taufeeq\\projects\\im-scrapper\\.venv\\lib\\site-packages\\deeppavlov\\core\\commands\\train.py:113\u001b[0m, in \u001b[0;36mtrain_evaluate_model_from_config\u001b[1;34m(config, iterator, to_train, evaluation_targets, install, download, start_epoch_num, recursive)\u001b[0m\n\u001b[0;32m    110\u001b[0m trainer \u001b[39m=\u001b[39m trainer_class(config[\u001b[39m'\u001b[39m\u001b[39mchainer\u001b[39m\u001b[39m'\u001b[39m], \u001b[39m*\u001b[39m\u001b[39m*\u001b[39mtrain_config)\n\u001b[0;32m    112\u001b[0m \u001b[39mif\u001b[39;00m to_train:\n\u001b[1;32m--> 113\u001b[0m     trainer\u001b[39m.\u001b[39;49mtrain(iterator)\n\u001b[0;32m    115\u001b[0m res \u001b[39m=\u001b[39m {}\n\u001b[0;32m    117\u001b[0m \u001b[39mif\u001b[39;00m iterator \u001b[39mis\u001b[39;00m \u001b[39mnot\u001b[39;00m \u001b[39mNone\u001b[39;00m:\n",
      "File \u001b[1;32mc:\\Users\\Taufeeq\\projects\\im-scrapper\\.venv\\lib\\site-packages\\deeppavlov\\core\\trainers\\nn_trainer.py:331\u001b[0m, in \u001b[0;36mNNTrainer.train\u001b[1;34m(self, iterator)\u001b[0m\n\u001b[0;32m    329\u001b[0m \u001b[39mdef\u001b[39;00m \u001b[39mtrain\u001b[39m(\u001b[39mself\u001b[39m, iterator: DataLearningIterator) \u001b[39m-\u001b[39m\u001b[39m>\u001b[39m \u001b[39mNone\u001b[39;00m:\n\u001b[0;32m    330\u001b[0m \u001b[39m    \u001b[39m\u001b[39m\"\"\"Call :meth:`~fit_chainer` and then :meth:`~train_on_batches` with provided data iterator as an argument\"\"\"\u001b[39;00m\n\u001b[1;32m--> 331\u001b[0m     \u001b[39mself\u001b[39;49m\u001b[39m.\u001b[39;49mfit_chainer(iterator)\n\u001b[0;32m    332\u001b[0m     \u001b[39mif\u001b[39;00m callable(\u001b[39mgetattr\u001b[39m(\u001b[39mself\u001b[39m\u001b[39m.\u001b[39m_chainer, \u001b[39m'\u001b[39m\u001b[39mtrain_on_batch\u001b[39m\u001b[39m'\u001b[39m, \u001b[39mNone\u001b[39;00m)):\n\u001b[0;32m    333\u001b[0m         \u001b[39mtry\u001b[39;00m:\n",
      "File \u001b[1;32mc:\\Users\\Taufeeq\\projects\\im-scrapper\\.venv\\lib\\site-packages\\deeppavlov\\core\\trainers\\fit_trainer.py:86\u001b[0m, in \u001b[0;36mFitTrainer.fit_chainer\u001b[1;34m(self, iterator)\u001b[0m\n\u001b[0;32m     84\u001b[0m     \u001b[39mraise\u001b[39;00m \u001b[39mRuntimeError\u001b[39;00m(\u001b[39m'\u001b[39m\u001b[39mCannot fit already built chainer\u001b[39m\u001b[39m'\u001b[39m)\n\u001b[0;32m     85\u001b[0m \u001b[39mfor\u001b[39;00m component_index, component_config \u001b[39min\u001b[39;00m \u001b[39menumerate\u001b[39m(\u001b[39mself\u001b[39m\u001b[39m.\u001b[39mchainer_config[\u001b[39m'\u001b[39m\u001b[39mpipe\u001b[39m\u001b[39m'\u001b[39m], \u001b[39m1\u001b[39m):\n\u001b[1;32m---> 86\u001b[0m     component \u001b[39m=\u001b[39m from_params(component_config, mode\u001b[39m=\u001b[39;49m\u001b[39m'\u001b[39;49m\u001b[39mtrain\u001b[39;49m\u001b[39m'\u001b[39;49m)\n\u001b[0;32m     87\u001b[0m     \u001b[39mif\u001b[39;00m \u001b[39m'\u001b[39m\u001b[39mfit_on\u001b[39m\u001b[39m'\u001b[39m \u001b[39min\u001b[39;00m component_config:\n\u001b[0;32m     88\u001b[0m         component: Estimator\n",
      "File \u001b[1;32mc:\\Users\\Taufeeq\\projects\\im-scrapper\\.venv\\lib\\site-packages\\deeppavlov\\core\\common\\params.py:92\u001b[0m, in \u001b[0;36mfrom_params\u001b[1;34m(params, mode, **kwargs)\u001b[0m\n\u001b[0;32m     90\u001b[0m     log\u001b[39m.\u001b[39mexception(e)\n\u001b[0;32m     91\u001b[0m     \u001b[39mraise\u001b[39;00m e\n\u001b[1;32m---> 92\u001b[0m obj \u001b[39m=\u001b[39m get_model(cls_name)\n\u001b[0;32m     94\u001b[0m \u001b[39mif\u001b[39;00m inspect\u001b[39m.\u001b[39misclass(obj):\n\u001b[0;32m     95\u001b[0m     \u001b[39m# find the submodels params recursively\u001b[39;00m\n\u001b[0;32m     96\u001b[0m     config_params \u001b[39m=\u001b[39m {k: _init_param(v, mode) \u001b[39mfor\u001b[39;00m k, v \u001b[39min\u001b[39;00m config_params\u001b[39m.\u001b[39mitems()}\n",
      "File \u001b[1;32mc:\\Users\\Taufeeq\\projects\\im-scrapper\\.venv\\lib\\site-packages\\deeppavlov\\core\\common\\registry.py:74\u001b[0m, in \u001b[0;36mget_model\u001b[1;34m(name)\u001b[0m\n\u001b[0;32m     72\u001b[0m         \u001b[39mraise\u001b[39;00m ConfigError(\u001b[39m\"\u001b[39m\u001b[39mModel \u001b[39m\u001b[39m{}\u001b[39;00m\u001b[39m is not registered.\u001b[39m\u001b[39m\"\u001b[39m\u001b[39m.\u001b[39mformat(name))\n\u001b[0;32m     73\u001b[0m     \u001b[39mreturn\u001b[39;00m cls_from_str(name)\n\u001b[1;32m---> 74\u001b[0m \u001b[39mreturn\u001b[39;00m cls_from_str(_REGISTRY[name])\n",
      "File \u001b[1;32mc:\\Users\\Taufeeq\\projects\\im-scrapper\\.venv\\lib\\site-packages\\deeppavlov\\core\\common\\registry.py:42\u001b[0m, in \u001b[0;36mcls_from_str\u001b[1;34m(name)\u001b[0m\n\u001b[0;32m     38\u001b[0m \u001b[39mexcept\u001b[39;00m \u001b[39mValueError\u001b[39;00m:\n\u001b[0;32m     39\u001b[0m     \u001b[39mraise\u001b[39;00m ConfigError(\u001b[39m'\u001b[39m\u001b[39mExpected class description in a `module.submodules:ClassName` form, but got `\u001b[39m\u001b[39m{}\u001b[39;00m\u001b[39m`\u001b[39m\u001b[39m'\u001b[39m\n\u001b[0;32m     40\u001b[0m                       \u001b[39m.\u001b[39mformat(name))\n\u001b[1;32m---> 42\u001b[0m \u001b[39mreturn\u001b[39;00m \u001b[39mgetattr\u001b[39m(importlib\u001b[39m.\u001b[39;49mimport_module(module_name), cls_name)\n",
      "File \u001b[1;32mC:\\Python39\\lib\\importlib\\__init__.py:127\u001b[0m, in \u001b[0;36mimport_module\u001b[1;34m(name, package)\u001b[0m\n\u001b[0;32m    125\u001b[0m             \u001b[39mbreak\u001b[39;00m\n\u001b[0;32m    126\u001b[0m         level \u001b[39m+\u001b[39m\u001b[39m=\u001b[39m \u001b[39m1\u001b[39m\n\u001b[1;32m--> 127\u001b[0m \u001b[39mreturn\u001b[39;00m _bootstrap\u001b[39m.\u001b[39;49m_gcd_import(name[level:], package, level)\n",
      "File \u001b[1;32m<frozen importlib._bootstrap>:1030\u001b[0m, in \u001b[0;36m_gcd_import\u001b[1;34m(name, package, level)\u001b[0m\n",
      "File \u001b[1;32m<frozen importlib._bootstrap>:1007\u001b[0m, in \u001b[0;36m_find_and_load\u001b[1;34m(name, import_)\u001b[0m\n",
      "File \u001b[1;32m<frozen importlib._bootstrap>:986\u001b[0m, in \u001b[0;36m_find_and_load_unlocked\u001b[1;34m(name, import_)\u001b[0m\n",
      "File \u001b[1;32m<frozen importlib._bootstrap>:680\u001b[0m, in \u001b[0;36m_load_unlocked\u001b[1;34m(spec)\u001b[0m\n",
      "File \u001b[1;32m<frozen importlib._bootstrap_external>:855\u001b[0m, in \u001b[0;36mexec_module\u001b[1;34m(self, module)\u001b[0m\n",
      "File \u001b[1;32m<frozen importlib._bootstrap>:228\u001b[0m, in \u001b[0;36m_call_with_frames_removed\u001b[1;34m(f, *args, **kwds)\u001b[0m\n",
      "File \u001b[1;32mc:\\Users\\Taufeeq\\projects\\im-scrapper\\.venv\\lib\\site-packages\\deeppavlov\\models\\preprocessors\\torch_transformers_preprocessor.py:26\u001b[0m\n\u001b[0;32m     24\u001b[0m \u001b[39mimport\u001b[39;00m \u001b[39mnltk\u001b[39;00m\n\u001b[0;32m     25\u001b[0m \u001b[39mimport\u001b[39;00m \u001b[39mnumpy\u001b[39;00m \u001b[39mas\u001b[39;00m \u001b[39mnp\u001b[39;00m\n\u001b[1;32m---> 26\u001b[0m \u001b[39mimport\u001b[39;00m \u001b[39mtorch\u001b[39;00m\n\u001b[0;32m     27\u001b[0m \u001b[39mfrom\u001b[39;00m \u001b[39mtransformers\u001b[39;00m \u001b[39mimport\u001b[39;00m AutoTokenizer\n\u001b[0;32m     28\u001b[0m \u001b[39mfrom\u001b[39;00m \u001b[39mtransformers\u001b[39;00m\u001b[39m.\u001b[39;00m\u001b[39mdata\u001b[39;00m\u001b[39m.\u001b[39;00m\u001b[39mprocessors\u001b[39;00m\u001b[39m.\u001b[39;00m\u001b[39mutils\u001b[39;00m \u001b[39mimport\u001b[39;00m InputFeatures\n",
      "\u001b[1;31mModuleNotFoundError\u001b[0m: No module named 'torch'"
     ]
    }
   ],
   "source": [
    "train_model(model_config,download=False)"
   ]
  },
  {
   "cell_type": "code",
   "execution_count": 9,
   "metadata": {},
   "outputs": [
    {
     "data": {
      "text/plain": [
       "{'dataset_reader': {'class_name': 'squad_dataset_reader',\n",
       "  'data_path': './faq.json'},\n",
       " 'dataset_iterator': {'class_name': 'squad_iterator',\n",
       "  'seed': 1337,\n",
       "  'shuffle': True},\n",
       " 'chainer': {'in': ['context_raw', 'question_raw'],\n",
       "  'in_y': ['ans_raw', 'ans_raw_start'],\n",
       "  'pipe': [{'class_name': 'torch_squad_transformers_preprocessor',\n",
       "    'vocab_file': 'bert-base-cased',\n",
       "    'do_lower_case': False,\n",
       "    'max_seq_length': 384,\n",
       "    'in': ['question_raw', 'context_raw'],\n",
       "    'out': ['bert_features', 'subtokens', 'split_context']},\n",
       "   {'class_name': 'squad_bert_mapping',\n",
       "    'do_lower_case': False,\n",
       "    'in': ['split_context', 'bert_features', 'subtokens'],\n",
       "    'out': ['subtok2chars', 'char2subtoks']},\n",
       "   {'class_name': 'squad_bert_ans_preprocessor',\n",
       "    'do_lower_case': False,\n",
       "    'in': ['ans_raw', 'ans_raw_start', 'char2subtoks'],\n",
       "    'out': ['ans', 'ans_start', 'ans_end']},\n",
       "   {'class_name': 'torch_transformers_squad',\n",
       "    'pretrained_bert': 'bert-base-cased',\n",
       "    'save_path': '~/.deeppavlov/models/squad_torch_bert/cased/bert-base-cased/model',\n",
       "    'load_path': '~/.deeppavlov/models/squad_torch_bert/cased/bert-base-cased/model',\n",
       "    'optimizer': 'AdamW',\n",
       "    'optimizer_parameters': {'lr': 2e-05,\n",
       "     'weight_decay': 0.01,\n",
       "     'betas': [0.9, 0.999],\n",
       "     'eps': 1e-06},\n",
       "    'learning_rate_drop_patience': 2,\n",
       "    'learning_rate_drop_div': 2.0,\n",
       "    'batch_size': 10,\n",
       "    'in': ['bert_features'],\n",
       "    'in_y': ['ans_start', 'ans_end'],\n",
       "    'out': ['ans_start_predicted',\n",
       "     'ans_end_predicted',\n",
       "     'logits',\n",
       "     'scores',\n",
       "     'inds']},\n",
       "   {'class_name': 'squad_bert_ans_postprocessor',\n",
       "    'in': ['ans_start_predicted',\n",
       "     'ans_end_predicted',\n",
       "     'split_context',\n",
       "     'subtok2chars',\n",
       "     'subtokens',\n",
       "     'inds'],\n",
       "    'out': ['ans_predicted', 'ans_start_predicted', 'ans_end_predicted']}],\n",
       "  'out': ['ans_predicted', 'ans_start_predicted', 'scores']},\n",
       " 'train': {'show_examples': False,\n",
       "  'evaluation_targets': ['valid'],\n",
       "  'log_every_n_batches': 250,\n",
       "  'val_every_n_batches': 500,\n",
       "  'batch_size': 10,\n",
       "  'pytest_max_batches': 2,\n",
       "  'pytest_batch_size': 5,\n",
       "  'validation_patience': 10,\n",
       "  'metrics': [{'name': 'squad_v1_f1', 'inputs': ['ans', 'ans_predicted']},\n",
       "   {'name': 'squad_v1_em', 'inputs': ['ans', 'ans_predicted']},\n",
       "   {'name': 'squad_v2_f1', 'inputs': ['ans', 'ans_predicted']},\n",
       "   {'name': 'squad_v2_em', 'inputs': ['ans', 'ans_predicted']}],\n",
       "  'class_name': 'torch_trainer'},\n",
       " 'metadata': {'variables': {'LOWERCASE': False,\n",
       "   'TRANSFORMER': 'bert-base-cased',\n",
       "   'ROOT_PATH': '~/.deeppavlov',\n",
       "   'DOWNLOADS_PATH': '~/.deeppavlov/downloads',\n",
       "   'MODELS_PATH': '~/.deeppavlov/models',\n",
       "   'MODEL_PATH': '~/.deeppavlov/models/squad_torch_bert/cased/bert-base-cased'},\n",
       "  'download': [{'url': 'http://files.deeppavlov.ai/v1/squad/squad_torch_bert_cased.tar.gz',\n",
       "    'subdir': '~/.deeppavlov/models/squad_torch_bert/cased/bert-base-cased'}],\n",
       "  'requirements': ['c:\\\\Users\\\\Taufeeq\\\\projects\\\\im-scrapper\\\\.venv\\\\lib\\\\site-packages\\\\deeppavlov/requirements/pytorch.txt',\n",
       "   'c:\\\\Users\\\\Taufeeq\\\\projects\\\\im-scrapper\\\\.venv\\\\lib\\\\site-packages\\\\deeppavlov/requirements/transformers.txt']}}"
      ]
     },
     "execution_count": 9,
     "metadata": {},
     "output_type": "execute_result"
    }
   ],
   "source": [
    "model_config"
   ]
  },
  {
   "cell_type": "code",
   "execution_count": null,
   "metadata": {},
   "outputs": [],
   "source": []
  }
 ],
 "metadata": {
  "kernelspec": {
   "display_name": "venv",
   "language": "python",
   "name": "python3"
  },
  "language_info": {
   "codemirror_mode": {
    "name": "ipython",
    "version": 3
   },
   "file_extension": ".py",
   "mimetype": "text/x-python",
   "name": "python",
   "nbconvert_exporter": "python",
   "pygments_lexer": "ipython3",
   "version": "3.9.5"
  },
  "orig_nbformat": 4
 },
 "nbformat": 4,
 "nbformat_minor": 2
}
