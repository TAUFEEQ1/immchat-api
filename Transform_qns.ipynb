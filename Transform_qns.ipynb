{
 "cells": [
  {
   "cell_type": "code",
   "execution_count": 1,
   "metadata": {},
   "outputs": [],
   "source": [
    "import pandas as pd\n",
    "from sklearn.feature_extraction.text import TfidfVectorizer\n",
    "import pandas as pd\n",
    "import sqlite3\n",
    "import pickle\n",
    "import numpy as np"
   ]
  },
  {
   "cell_type": "code",
   "execution_count": 2,
   "metadata": {},
   "outputs": [],
   "source": [
    "df = pd.read_json(\"./qa.json\")"
   ]
  },
  {
   "cell_type": "code",
   "execution_count": 3,
   "metadata": {},
   "outputs": [
    {
     "data": {
      "text/html": [
       "<div>\n",
       "<style scoped>\n",
       "    .dataframe tbody tr th:only-of-type {\n",
       "        vertical-align: middle;\n",
       "    }\n",
       "\n",
       "    .dataframe tbody tr th {\n",
       "        vertical-align: top;\n",
       "    }\n",
       "\n",
       "    .dataframe thead th {\n",
       "        text-align: right;\n",
       "    }\n",
       "</style>\n",
       "<table border=\"1\" class=\"dataframe\">\n",
       "  <thead>\n",
       "    <tr style=\"text-align: right;\">\n",
       "      <th></th>\n",
       "      <th>topic</th>\n",
       "      <th>link</th>\n",
       "      <th>qn</th>\n",
       "      <th>ans</th>\n",
       "    </tr>\n",
       "  </thead>\n",
       "  <tbody>\n",
       "    <tr>\n",
       "      <th>0</th>\n",
       "      <td>Immigration Control</td>\n",
       "      <td>https://www.immigration.go.ug/node/200</td>\n",
       "      <td>How do I replace my previously Manual Certific...</td>\n",
       "      <td>All registered and naturalized citizens with m...</td>\n",
       "    </tr>\n",
       "    <tr>\n",
       "      <th>1</th>\n",
       "      <td>Immigration Control</td>\n",
       "      <td>https://www.immigration.go.ug/node/199</td>\n",
       "      <td>Is Uganda still issuing visas on arrival?</td>\n",
       "      <td>Applicants are strongly encouraged to submit t...</td>\n",
       "    </tr>\n",
       "    <tr>\n",
       "      <th>2</th>\n",
       "      <td>Immigration Control</td>\n",
       "      <td>https://www.immigration.go.ug/node/198</td>\n",
       "      <td>How do I apply for a visa to Uganda?</td>\n",
       "      <td>All persons intending to travel to Uganda for ...</td>\n",
       "    </tr>\n",
       "    <tr>\n",
       "      <th>3</th>\n",
       "      <td>Immigration Control</td>\n",
       "      <td>https://www.immigration.go.ug/faqs/another-app...</td>\n",
       "      <td>When I submit an application, I get a message ...</td>\n",
       "      <td>If you are receiving an error message that say...</td>\n",
       "    </tr>\n",
       "    <tr>\n",
       "      <th>4</th>\n",
       "      <td>Immigration Control</td>\n",
       "      <td>https://www.immigration.go.ug/faqs/forgot-appl...</td>\n",
       "      <td>What if I forgot my application Id?</td>\n",
       "      <td>For retrieving the application Id please click...</td>\n",
       "    </tr>\n",
       "  </tbody>\n",
       "</table>\n",
       "</div>"
      ],
      "text/plain": [
       "                 topic                                               link  \\\n",
       "0  Immigration Control             https://www.immigration.go.ug/node/200   \n",
       "1  Immigration Control             https://www.immigration.go.ug/node/199   \n",
       "2  Immigration Control             https://www.immigration.go.ug/node/198   \n",
       "3  Immigration Control  https://www.immigration.go.ug/faqs/another-app...   \n",
       "4  Immigration Control  https://www.immigration.go.ug/faqs/forgot-appl...   \n",
       "\n",
       "                                                  qn  \\\n",
       "0  How do I replace my previously Manual Certific...   \n",
       "1          Is Uganda still issuing visas on arrival?   \n",
       "2               How do I apply for a visa to Uganda?   \n",
       "3  When I submit an application, I get a message ...   \n",
       "4                What if I forgot my application Id?   \n",
       "\n",
       "                                                 ans  \n",
       "0  All registered and naturalized citizens with m...  \n",
       "1  Applicants are strongly encouraged to submit t...  \n",
       "2  All persons intending to travel to Uganda for ...  \n",
       "3  If you are receiving an error message that say...  \n",
       "4  For retrieving the application Id please click...  "
      ]
     },
     "execution_count": 3,
     "metadata": {},
     "output_type": "execute_result"
    }
   ],
   "source": [
    "df.head()"
   ]
  },
  {
   "cell_type": "code",
   "execution_count": 4,
   "metadata": {},
   "outputs": [],
   "source": [
    "with open(\"./Im_act.txt\",'r',encoding=\"utf8\") as f:\n",
    "    im_vocab = f.readlines()"
   ]
  },
  {
   "cell_type": "code",
   "execution_count": null,
   "metadata": {},
   "outputs": [],
   "source": []
  },
  {
   "cell_type": "code",
   "execution_count": 5,
   "metadata": {},
   "outputs": [],
   "source": [
    "vectorizer = TfidfVectorizer()"
   ]
  },
  {
   "cell_type": "code",
   "execution_count": 6,
   "metadata": {},
   "outputs": [],
   "source": [
    "combined_vocab = df['ans'].tolist() + im_vocab"
   ]
  },
  {
   "cell_type": "code",
   "execution_count": 7,
   "metadata": {},
   "outputs": [
    {
     "data": {
      "text/plain": [
       "TfidfVectorizer()"
      ]
     },
     "execution_count": 7,
     "metadata": {},
     "output_type": "execute_result"
    }
   ],
   "source": [
    "vectorizer.fit(combined_vocab)"
   ]
  },
  {
   "cell_type": "code",
   "execution_count": 8,
   "metadata": {},
   "outputs": [],
   "source": [
    "qns = vectorizer.transform(df['qn'])"
   ]
  },
  {
   "cell_type": "code",
   "execution_count": 9,
   "metadata": {},
   "outputs": [],
   "source": [
    "np.save(\"qns.npy\",qns.toarray())"
   ]
  },
  {
   "cell_type": "code",
   "execution_count": 10,
   "metadata": {},
   "outputs": [],
   "source": [
    "df['idx'] = df.index"
   ]
  },
  {
   "cell_type": "code",
   "execution_count": 11,
   "metadata": {},
   "outputs": [],
   "source": [
    "# create a connection to the SQLite database\n",
    "conn = sqlite3.connect('new_qa.db')"
   ]
  },
  {
   "cell_type": "code",
   "execution_count": 12,
   "metadata": {},
   "outputs": [],
   "source": [
    "# convert the dataframe to a SQLite table\n",
    "df.to_sql('qas', conn, if_exists='replace', index=False)"
   ]
  },
  {
   "cell_type": "code",
   "execution_count": 13,
   "metadata": {},
   "outputs": [],
   "source": [
    "conn.close()"
   ]
  },
  {
   "cell_type": "code",
   "execution_count": 14,
   "metadata": {},
   "outputs": [],
   "source": [
    "# Save the vectorizer as a pickle file\n",
    "with open('vectorizer_0.pkl', 'wb') as f:\n",
    "    pickle.dump(vectorizer, f)"
   ]
  },
  {
   "cell_type": "code",
   "execution_count": 15,
   "metadata": {},
   "outputs": [],
   "source": [
    "import numpy as np"
   ]
  },
  {
   "cell_type": "code",
   "execution_count": 16,
   "metadata": {},
   "outputs": [],
   "source": [
    "# np.save(\"qns.npy\",qns)"
   ]
  },
  {
   "cell_type": "code",
   "execution_count": null,
   "metadata": {},
   "outputs": [],
   "source": []
  }
 ],
 "metadata": {
  "kernelspec": {
   "display_name": "venv",
   "language": "python",
   "name": "python3"
  },
  "language_info": {
   "codemirror_mode": {
    "name": "ipython",
    "version": 3
   },
   "file_extension": ".py",
   "mimetype": "text/x-python",
   "name": "python",
   "nbconvert_exporter": "python",
   "pygments_lexer": "ipython3",
   "version": "3.9.5"
  },
  "orig_nbformat": 4
 },
 "nbformat": 4,
 "nbformat_minor": 2
}
